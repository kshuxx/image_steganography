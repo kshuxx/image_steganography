{
  "nbformat": 4,
  "nbformat_minor": 0,
  "metadata": {
    "colab": {
      "provenance": [],
      "authorship_tag": "ABX9TyPqVoWcmLAAN1KPTkpCeSkk",
      "include_colab_link": true
    },
    "kernelspec": {
      "name": "python3",
      "display_name": "Python 3"
    },
    "language_info": {
      "name": "python"
    }
  },
  "cells": [
    {
      "cell_type": "markdown",
      "metadata": {
        "id": "view-in-github",
        "colab_type": "text"
      },
      "source": [
        "<a href=\"https://colab.research.google.com/github/kshuxx/image_steganography/blob/main/image_steganography.ipynb\" target=\"_parent\"><img src=\"https://colab.research.google.com/assets/colab-badge.svg\" alt=\"Open In Colab\"/></a>"
      ]
    },
    {
      "cell_type": "code",
      "execution_count": null,
      "metadata": {
        "collapsed": true,
        "id": "n5hL6Pj_zVAw"
      },
      "outputs": [],
      "source": [
        "# Install necessary modules\n",
        "!pip install opencv-python-headless numpy gradio"
      ]
    },
    {
      "cell_type": "code",
      "source": [
        "import cv2\n",
        "import numpy as np\n",
        "import gradio as gr"
      ],
      "metadata": {
        "id": "Q42KY5h-5TN5"
      },
      "execution_count": 10,
      "outputs": []
    },
    {
      "cell_type": "code",
      "source": [
        "# Custom exception for steganography errors\n",
        "class SteganographyException(Exception):\n",
        "    pass\n",
        "\n",
        "# Class for Least Significant Bit (LSB) Steganography\n",
        "class LSBSteg():\n",
        "    def __init__(self, im):\n",
        "        self.image = im\n",
        "        self.height, self.width, self.nbchannels = im.shape\n",
        "        self.size = self.width * self.height\n",
        "\n",
        "        # Masks for setting and clearing the least significant bit\n",
        "        self.maskONEValues = [1, 2, 4, 8, 16, 32, 64, 128]\n",
        "        self.maskONE = self.maskONEValues.pop(0)\n",
        "\n",
        "        self.maskZEROValues = [254, 253, 251, 247, 239, 223, 191, 127]\n",
        "        self.maskZERO = self.maskZEROValues.pop(0)\n",
        "\n",
        "        self.curwidth = 0\n",
        "        self.curheight = 0\n",
        "        self.curchan = 0\n",
        "\n",
        "    # Method to put binary value into the image\n",
        "    def put_binary_value(self, bits):\n",
        "        for c in bits:\n",
        "            val = list(self.image[self.curheight, self.curwidth])\n",
        "            if int(c) == 1:\n",
        "                val[self.curchan] = int(val[self.curchan]) | self.maskONE\n",
        "            else:\n",
        "                val[self.curchan] = int(val[self.curchan]) & self.maskZERO\n",
        "\n",
        "            self.image[self.curheight, self.curwidth] = tuple(val)\n",
        "            self.next_slot()\n",
        "\n",
        "    # Method to move to the next slot in the image\n",
        "    def next_slot(self):\n",
        "        if self.curchan == self.nbchannels - 1:\n",
        "            self.curchan = 0\n",
        "            if self.curwidth == self.width - 1:\n",
        "                self.curwidth = 0\n",
        "                if self.curheight == self.height - 1:\n",
        "                    self.curheight = 0\n",
        "                    if self.maskONE == 128:\n",
        "                        raise SteganographyException(\"No available slot remaining (image filled)\")\n",
        "                    else:\n",
        "                        self.maskONE = self.maskONEValues.pop(0)\n",
        "                        self.maskZERO = self.maskZEROValues.pop(0)\n",
        "                else:\n",
        "                    self.curheight += 1\n",
        "            else:\n",
        "                self.curwidth += 1\n",
        "        else:\n",
        "            self.curchan += 1\n",
        "\n",
        "    # Method to read a single bit from the image\n",
        "    def read_bit(self):\n",
        "        val = self.image[self.curheight, self.curwidth][self.curchan]\n",
        "        val = int(val) & self.maskONE\n",
        "        self.next_slot()\n",
        "        if val > 0:\n",
        "            return \"1\"\n",
        "        else:\n",
        "            return \"0\"\n",
        "\n",
        "    # Method to read a byte (8 bits) from the image\n",
        "    def read_byte(self):\n",
        "        return self.read_bits(8)\n",
        "\n",
        "    # Method to read a specified number of bits from the image\n",
        "    def read_bits(self, nb):\n",
        "        bits = \"\"\n",
        "        for i in range(nb):\n",
        "            bits += self.read_bit()\n",
        "        return bits\n",
        "\n",
        "    # Method to convert a value to its binary representation\n",
        "    def byteValue(self, val):\n",
        "        return self.binary_value(val, 8)\n",
        "\n",
        "    # Method to convert a value to a binary string of a specified size\n",
        "    def binary_value(self, val, bitsize):\n",
        "        binval = bin(val)[2:]\n",
        "        if len(binval) > bitsize:\n",
        "            raise SteganographyException(\"binary value larger than the expected size\")\n",
        "        while len(binval) < bitsize:\n",
        "            binval = \"0\" + binval\n",
        "        return binval\n",
        "\n",
        "    # Method to encode text into the image\n",
        "    def encode_text(self, txt):\n",
        "        l = len(txt)\n",
        "        binl = self.binary_value(l, 16)\n",
        "        self.put_binary_value(binl)\n",
        "        for char in txt:\n",
        "            c = ord(char)\n",
        "            self.put_binary_value(self.byteValue(c))\n",
        "        return self.image\n",
        "\n",
        "    # Method to decode text from the image\n",
        "    def decode_text(self):\n",
        "        ls = self.read_bits(16)\n",
        "        l = int(ls, 2)\n",
        "        i = 0\n",
        "        unhideTxt = \"\"\n",
        "        while i < l:\n",
        "            tmp = self.read_byte()\n",
        "            i += 1\n",
        "            unhideTxt += chr(int(tmp, 2))\n",
        "        return unhideTxt\n",
        "\n",
        "# Function to encode secret text into a carrier image\n",
        "def encode_text_image(carrier_image, secret_text):\n",
        "    in_img = cv2.imread(carrier_image)\n",
        "    steg = LSBSteg(in_img)\n",
        "    res = steg.encode_text(secret_text)\n",
        "    output_image = \"encoded_image.png\"\n",
        "    cv2.imwrite(output_image, res)\n",
        "    return output_image\n",
        "\n",
        "# Function to decode secret text from an encoded image\n",
        "def decode_text_image(encoded_image):\n",
        "    in_img = cv2.imread(encoded_image)\n",
        "    steg = LSBSteg(in_img)\n",
        "    hidden_text = steg.decode_text()\n",
        "    return hidden_text"
      ],
      "metadata": {
        "id": "HuYPWsDuz-0A"
      },
      "execution_count": 11,
      "outputs": []
    },
    {
      "cell_type": "code",
      "source": [
        "# Gradio interface for encoding text into an image\n",
        "encode_interface = gr.Interface(\n",
        "    fn=encode_text_image,\n",
        "    inputs=[\n",
        "        gr.Image(type=\"filepath\", label=\"Carrier Image\"),\n",
        "        gr.Textbox(label=\"Secret Text\")\n",
        "    ],\n",
        "    outputs=gr.File(label=\"Download Encoded Image\"),\n",
        "    title=\"Encode Text into Image\",\n",
        "    description=\"Upload a carrier image and enter the secret text to encode the text into the image.\"\n",
        ")\n",
        "\n",
        "# Gradio interface for decoding text from an image\n",
        "decode_interface = gr.Interface(\n",
        "    fn=decode_text_image,\n",
        "    inputs=gr.Image(type=\"filepath\", label=\"Encoded Image\"),\n",
        "    outputs=gr.Textbox(label=\"Decoded Text\"),\n",
        "    title=\"Decode Text from Image\",\n",
        "    description=\"Upload an encoded image to extract the hidden text.\"\n",
        ")\n",
        "\n",
        "# Launch the Gradio app with tabbed interfaces for encoding and decoding\n",
        "app = gr.TabbedInterface([encode_interface, decode_interface], [\"Encode\", \"Decode\"])\n",
        "app.launch()"
      ],
      "metadata": {
        "colab": {
          "base_uri": "https://localhost:8080/",
          "height": 648
        },
        "id": "hzWjUcCU5dCe",
        "outputId": "6bf21f14-c19f-40ac-f674-86c2c60aeb0e"
      },
      "execution_count": 12,
      "outputs": [
        {
          "output_type": "stream",
          "name": "stdout",
          "text": [
            "Setting queue=True in a Colab notebook requires sharing enabled. Setting `share=True` (you can turn this off by setting `share=False` in `launch()` explicitly).\n",
            "\n",
            "Colab notebook detected. To show errors in colab notebook, set debug=True in launch()\n",
            "Running on public URL: https://aa508102bc80866c9b.gradio.live\n",
            "\n",
            "This share link expires in 72 hours. For free permanent hosting and GPU upgrades, run `gradio deploy` from Terminal to deploy to Spaces (https://huggingface.co/spaces)\n"
          ]
        },
        {
          "output_type": "display_data",
          "data": {
            "text/plain": [
              "<IPython.core.display.HTML object>"
            ],
            "text/html": [
              "<div><iframe src=\"https://aa508102bc80866c9b.gradio.live\" width=\"100%\" height=\"500\" allow=\"autoplay; camera; microphone; clipboard-read; clipboard-write;\" frameborder=\"0\" allowfullscreen></iframe></div>"
            ]
          },
          "metadata": {}
        },
        {
          "output_type": "execute_result",
          "data": {
            "text/plain": []
          },
          "metadata": {},
          "execution_count": 12
        }
      ]
    }
  ]
}